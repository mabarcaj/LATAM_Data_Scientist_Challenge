{
 "cells": [
  {
   "attachments": {},
   "cell_type": "markdown",
   "metadata": {},
   "source": [
    "# Challenge Data Scientist - Mauricio Abarca\n",
    "\n",
    "The problem consists in predicting the probability of delay of the flights that land or take off from the airport of Santiago de Chile\n",
    "(SCL). For that you will have a dataset using public and real data where each row corresponds to a flight that landed or took off\n",
    "from SCL during 2017. The following information is available for each flight:\n",
    "- **Fecha-I:** Scheduled date and time of the flight.\n",
    "- **Vlo-I:** Scheduled flight number.\n",
    "- **Ori-I:** Programmed origin city code.\n",
    "- **Des-I:** Programmed destination city code.\n",
    "- **Emp-I:** Scheduled flight airline code.\n",
    "- **Fecha-O** Date and time of flight operation.\n",
    "- **Vlo-O:** Flight operation number of the flight.\n",
    "- **Ori-O:** Operation origin city code.\n",
    "- **Des-O:** Operation destination city code.\n",
    "- **Emp-O:** Airline code of the operated flight.\n",
    "- **DIA:** Day of the month of flight operation.\n",
    "- **MES:** Number of the month of operation of flight.\n",
    "- **AÑO:** Year of flight operation.\n",
    "- **DIANOM:** Day of the week of flight operation.\n",
    "- **TIPOVUELO:** Type of flight, I = Internatiol, N = National.\n",
    "- **OPERA:** Name of the airline that operates.\n",
    "- **SIGLAORI:** Name city of origin.\n",
    "- **SIGLADES:** Destination city name. \n"
   ]
  },
  {
   "attachments": {},
   "cell_type": "markdown",
   "metadata": {},
   "source": [
    "## Challenges\n",
    "1) How is the data distributed? Did you find any noteworthy insight to share? What can you conclude about this?\n",
    "   > *[See Solution](##-Challenge-1)*\n",
    "   \n",
    "2) Generate the following additional columns. Please export them to a CSV file named synthetic_features.csv:\n",
    "   - **high_season** : 1 if Date-I is between Dec-15 and Mar-3, or Jul-15 and Jul-31, or Sep-11 and Sep-30, 0 otherwise. \n",
    "   - **min_diff** : difference in minutes between Date-O and Date-I. \n",
    "   - **delay_15** : 1 if min_diff > 15, 0 if not. \n",
    "   - **period_day** : morning (between 5:00 and 11:59), afternoon (between 12:00 and 18:59) and night (between 19:00 and 4:59), based onDate-I.\n",
    "  \n",
    "   > *[See Solution](##-Challenge-2)*\n",
    "     \n",
    "  \n",
    "3) What is the behavior of the delay rate across destination, airline, month of the year, day of the week, season, type of flight?What variables would you expect to have the most influence in predicting delays?\n",
    "   > *[See Solution](##-Challenge-3)*\n",
    "   \n",
    "4) Train one or several models (using the algorithm(s) of your choice) to estimate the likelihood of a flight delay. Feel free to generate additional variables and/or supplement with external variables.\n",
    "   > *[See Solution](##-Challenge-4)*\n",
    "   \n",
    "5) Evaluate model performance in the predictive task across each model that you trained. Define and justify what metrics you used to assess model performance. Pick the best trained model and evaluate the following:\n",
    "   - What variables were the most influential in the prediction task? \n",
    "   - How could you improve the Performance?\n",
    "   > *[See Solution](##-Challenge-5)*\n"
   ]
  },
  {
   "attachments": {},
   "cell_type": "markdown",
   "metadata": {},
   "source": [
    "## Base Libraries and Virtual Environment\n",
    "\n",
    "Before anything, we need to create or activate the virtual environment (from here on 'venv') where we are going to work. For the present challenge, we are going to work with a venv called *'latamds'* (you can change the name on the next cell). Also we will be working on windows, so the exact commands may vary from one OS to another. In order to properly change the commands or in case of any doubt, see the [venv docs](https://docs.python.org/3/library/venv.html)."
   ]
  },
  {
   "cell_type": "code",
   "execution_count": null,
   "metadata": {},
   "outputs": [],
   "source": [
    "# python3 -m venv latams\n",
    "source latamds\\Scripts\\activate.bat"
   ]
  },
  {
   "attachments": {},
   "cell_type": "markdown",
   "metadata": {},
   "source": [
    "## Challenge 1"
   ]
  },
  {
   "attachments": {},
   "cell_type": "markdown",
   "metadata": {},
   "source": [
    "## Challenge 2"
   ]
  },
  {
   "attachments": {},
   "cell_type": "markdown",
   "metadata": {},
   "source": [
    "## Challenge 3"
   ]
  },
  {
   "attachments": {},
   "cell_type": "markdown",
   "metadata": {},
   "source": [
    "## Challenge 4"
   ]
  },
  {
   "attachments": {},
   "cell_type": "markdown",
   "metadata": {},
   "source": [
    "## Challenge 5"
   ]
  }
 ],
 "metadata": {
  "language_info": {
   "name": "python"
  },
  "orig_nbformat": 4
 },
 "nbformat": 4,
 "nbformat_minor": 2
}
