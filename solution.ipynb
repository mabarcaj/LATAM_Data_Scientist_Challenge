{
 "cells": [
  {
   "attachments": {},
   "cell_type": "markdown",
   "metadata": {},
   "source": [
    "# Challenge Data Scientist - Mauricio Abarca\n",
    "\n",
    "The problem consists in predicting the probability of delay of the flights that land or take off from the airport of Santiago de Chile\n",
    "(SCL). For that you will have a dataset using public and real data where each row corresponds to a flight that landed or took off\n",
    "from SCL during 2017. The following information is available for each flight:\n",
    "- **Fecha-I:** Scheduled date and time of the flight.\n",
    "- **Vlo-I:** Scheduled flight number.\n",
    "- **Ori-I:** Programmed origin city code.\n",
    "- **Des-I:** Programmed destination city code.\n",
    "- **Emp-I:** Scheduled flight airline code.\n",
    "- **Fecha-O** Date and time of flight operation.\n",
    "- **Vlo-O:** Flight operation number of the flight.\n",
    "- **Ori-O:** Operation origin city code.\n",
    "- **Des-O:** Operation destination city code.\n",
    "- **Emp-O:** Airline code of the operated flight.\n",
    "- **DIA:** Day of the month of flight operation.\n",
    "- **MES:** Number of the month of operation of flight.\n",
    "- **AÑO:** Year of flight operation.\n",
    "- **DIANOM:** Day of the week of flight operation.\n",
    "- **TIPOVUELO:** Type of flight, I = Internatiol, N = National.\n",
    "- **OPERA:** Name of the airline that operates.\n",
    "- **SIGLAORI:** Name city of origin.\n",
    "- **SIGLADES:** Destination city name. \n"
   ]
  },
  {
   "attachments": {},
   "cell_type": "markdown",
   "metadata": {},
   "source": [
    "## Challenges\n",
    "1) How is the data distributed? Did you find any noteworthy insight to share? What can you conclude about this?\n",
    "   > *[See Solution](##-Challenge-1)*\n",
    "   \n",
    "2) Generate the following additional columns. Please export them to a CSV file named synthetic_features.csv:\n",
    "   - **high_season** : 1 if Date-I is between Dec-15 and Mar-3, or Jul-15 and Jul-31, or Sep-11 and Sep-30, 0 otherwise. \n",
    "   - **min_diff** : difference in minutes between Date-O and Date-I. \n",
    "   - **delay_15** : 1 if min_diff > 15, 0 if not. \n",
    "   - **period_day** : morning (between 5:00 and 11:59), afternoon (between 12:00 and 18:59) and night (between 19:00 and 4:59), based onDate-I.\n",
    "  \n",
    "   > *[See Solution](##-Challenge-2)*\n",
    "     \n",
    "  \n",
    "3) What is the behavior of the delay rate across destination, airline, month of the year, day of the week, season, type of flight?What variables would you expect to have the most influence in predicting delays?\n",
    "   > *[See Solution](##-Challenge-3)*\n",
    "   \n",
    "4) Train one or several models (using the algorithm(s) of your choice) to estimate the likelihood of a flight delay. Feel free to generate additional variables and/or supplement with external variables.\n",
    "   > *[See Solution](##-Challenge-4)*\n",
    "   \n",
    "5) Evaluate model performance in the predictive task across each model that you trained. Define and justify what metrics you used to assess model performance. Pick the best trained model and evaluate the following:\n",
    "   - What variables were the most influential in the prediction task? \n",
    "   - How could you improve the Performance?\n",
    "   > *[See Solution](##-Challenge-5)*\n"
   ]
  },
  {
   "attachments": {},
   "cell_type": "markdown",
   "metadata": {},
   "source": [
    "## Virtual Environment\n",
    "\n",
    "Before anything, we need to ensure that we have the proper virtual environment ready to work. Since the scope of the challenge is not how to properly use venv on your machine, I will skip theese and assume that the venv you'll use is created and ready to be use (in other words, activated). In my personal case, the venv is called latamds (and will be referred with that name later on). To see how to create the venv and give it a name, refer to the [venv docs](https://docs.python.org/3/library/venv.html).\n",
    "\n",
    "Once latamds is created and activated, we need to ensure that the notebook is using it. In vscode this is simple as check the right corner for the kernel named (in my case) *''latamds(Python 3.11.2)*. \n",
    "\n",
    "At this point you should have the latamds venv created, activated, and used as kernel on this Notebook. Now import all the modules present on requirements.txt. After that you are ready to work with this Notebook."
   ]
  },
  {
   "attachments": {},
   "cell_type": "markdown",
   "metadata": {},
   "source": [
    "## Data Exploration and Module Import\n",
    "\n",
    "First let's import all the modules we'll be using later on, and load the given dataset (called dataset_SCL.csv). "
   ]
  },
  {
   "cell_type": "code",
   "execution_count": 1,
   "metadata": {},
   "outputs": [
    {
     "name": "stdout",
     "output_type": "stream",
     "text": [
      "Base libraries loaded!\n",
      "Dataset Loaded!\n"
     ]
    },
    {
     "name": "stderr",
     "output_type": "stream",
     "text": [
      "C:\\Users\\ShadowNightmare\\AppData\\Local\\Temp\\ipykernel_20100\\2474636717.py:12: DtypeWarning: Columns (1,6) have mixed types. Specify dtype option on import or set low_memory=False.\n",
      "  base_df = pd.read_csv('data/dataset_SCL.csv')\n"
     ]
    }
   ],
   "source": [
    "## Base Libraries \n",
    "\n",
    "import numpy as np\n",
    "import pandas as pd\n",
    "import matplotlib.pyplot as plt\n",
    "\n",
    "# This ensures plots are displayed inline in the Jupyter notebook\n",
    "%matplotlib inline\n",
    "\n",
    "print('Base libraries loaded!')\n",
    "\n",
    "base_df = pd.read_csv('data/dataset_SCL.csv')\n",
    "print('Dataset Loaded!')"
   ]
  },
  {
   "attachments": {},
   "cell_type": "markdown",
   "metadata": {},
   "source": [
    "Now let's print the first five rows and the last five, from the dataset, and after that let's print the information about it."
   ]
  },
  {
   "cell_type": "code",
   "execution_count": 2,
   "metadata": {},
   "outputs": [
    {
     "data": {
      "text/html": [
       "<div>\n",
       "<style scoped>\n",
       "    .dataframe tbody tr th:only-of-type {\n",
       "        vertical-align: middle;\n",
       "    }\n",
       "\n",
       "    .dataframe tbody tr th {\n",
       "        vertical-align: top;\n",
       "    }\n",
       "\n",
       "    .dataframe thead th {\n",
       "        text-align: right;\n",
       "    }\n",
       "</style>\n",
       "<table border=\"1\" class=\"dataframe\">\n",
       "  <thead>\n",
       "    <tr style=\"text-align: right;\">\n",
       "      <th></th>\n",
       "      <th>Fecha-I</th>\n",
       "      <th>Vlo-I</th>\n",
       "      <th>Ori-I</th>\n",
       "      <th>Des-I</th>\n",
       "      <th>Emp-I</th>\n",
       "      <th>Fecha-O</th>\n",
       "      <th>Vlo-O</th>\n",
       "      <th>Ori-O</th>\n",
       "      <th>Des-O</th>\n",
       "      <th>Emp-O</th>\n",
       "      <th>DIA</th>\n",
       "      <th>MES</th>\n",
       "      <th>AÑO</th>\n",
       "      <th>DIANOM</th>\n",
       "      <th>TIPOVUELO</th>\n",
       "      <th>OPERA</th>\n",
       "      <th>SIGLAORI</th>\n",
       "      <th>SIGLADES</th>\n",
       "    </tr>\n",
       "  </thead>\n",
       "  <tbody>\n",
       "    <tr>\n",
       "      <th>0</th>\n",
       "      <td>2017-01-01 23:30:00</td>\n",
       "      <td>226</td>\n",
       "      <td>SCEL</td>\n",
       "      <td>KMIA</td>\n",
       "      <td>AAL</td>\n",
       "      <td>2017-01-01 23:33:00</td>\n",
       "      <td>226</td>\n",
       "      <td>SCEL</td>\n",
       "      <td>KMIA</td>\n",
       "      <td>AAL</td>\n",
       "      <td>1</td>\n",
       "      <td>1</td>\n",
       "      <td>2017</td>\n",
       "      <td>Domingo</td>\n",
       "      <td>I</td>\n",
       "      <td>American Airlines</td>\n",
       "      <td>Santiago</td>\n",
       "      <td>Miami</td>\n",
       "    </tr>\n",
       "    <tr>\n",
       "      <th>1</th>\n",
       "      <td>2017-01-02 23:30:00</td>\n",
       "      <td>226</td>\n",
       "      <td>SCEL</td>\n",
       "      <td>KMIA</td>\n",
       "      <td>AAL</td>\n",
       "      <td>2017-01-02 23:39:00</td>\n",
       "      <td>226</td>\n",
       "      <td>SCEL</td>\n",
       "      <td>KMIA</td>\n",
       "      <td>AAL</td>\n",
       "      <td>2</td>\n",
       "      <td>1</td>\n",
       "      <td>2017</td>\n",
       "      <td>Lunes</td>\n",
       "      <td>I</td>\n",
       "      <td>American Airlines</td>\n",
       "      <td>Santiago</td>\n",
       "      <td>Miami</td>\n",
       "    </tr>\n",
       "    <tr>\n",
       "      <th>2</th>\n",
       "      <td>2017-01-03 23:30:00</td>\n",
       "      <td>226</td>\n",
       "      <td>SCEL</td>\n",
       "      <td>KMIA</td>\n",
       "      <td>AAL</td>\n",
       "      <td>2017-01-03 23:39:00</td>\n",
       "      <td>226</td>\n",
       "      <td>SCEL</td>\n",
       "      <td>KMIA</td>\n",
       "      <td>AAL</td>\n",
       "      <td>3</td>\n",
       "      <td>1</td>\n",
       "      <td>2017</td>\n",
       "      <td>Martes</td>\n",
       "      <td>I</td>\n",
       "      <td>American Airlines</td>\n",
       "      <td>Santiago</td>\n",
       "      <td>Miami</td>\n",
       "    </tr>\n",
       "    <tr>\n",
       "      <th>3</th>\n",
       "      <td>2017-01-04 23:30:00</td>\n",
       "      <td>226</td>\n",
       "      <td>SCEL</td>\n",
       "      <td>KMIA</td>\n",
       "      <td>AAL</td>\n",
       "      <td>2017-01-04 23:33:00</td>\n",
       "      <td>226</td>\n",
       "      <td>SCEL</td>\n",
       "      <td>KMIA</td>\n",
       "      <td>AAL</td>\n",
       "      <td>4</td>\n",
       "      <td>1</td>\n",
       "      <td>2017</td>\n",
       "      <td>Miercoles</td>\n",
       "      <td>I</td>\n",
       "      <td>American Airlines</td>\n",
       "      <td>Santiago</td>\n",
       "      <td>Miami</td>\n",
       "    </tr>\n",
       "    <tr>\n",
       "      <th>4</th>\n",
       "      <td>2017-01-05 23:30:00</td>\n",
       "      <td>226</td>\n",
       "      <td>SCEL</td>\n",
       "      <td>KMIA</td>\n",
       "      <td>AAL</td>\n",
       "      <td>2017-01-05 23:28:00</td>\n",
       "      <td>226</td>\n",
       "      <td>SCEL</td>\n",
       "      <td>KMIA</td>\n",
       "      <td>AAL</td>\n",
       "      <td>5</td>\n",
       "      <td>1</td>\n",
       "      <td>2017</td>\n",
       "      <td>Jueves</td>\n",
       "      <td>I</td>\n",
       "      <td>American Airlines</td>\n",
       "      <td>Santiago</td>\n",
       "      <td>Miami</td>\n",
       "    </tr>\n",
       "  </tbody>\n",
       "</table>\n",
       "</div>"
      ],
      "text/plain": [
       "               Fecha-I Vlo-I Ori-I Des-I Emp-I              Fecha-O Vlo-O  \\\n",
       "0  2017-01-01 23:30:00   226  SCEL  KMIA   AAL  2017-01-01 23:33:00   226   \n",
       "1  2017-01-02 23:30:00   226  SCEL  KMIA   AAL  2017-01-02 23:39:00   226   \n",
       "2  2017-01-03 23:30:00   226  SCEL  KMIA   AAL  2017-01-03 23:39:00   226   \n",
       "3  2017-01-04 23:30:00   226  SCEL  KMIA   AAL  2017-01-04 23:33:00   226   \n",
       "4  2017-01-05 23:30:00   226  SCEL  KMIA   AAL  2017-01-05 23:28:00   226   \n",
       "\n",
       "  Ori-O Des-O Emp-O  DIA  MES   AÑO     DIANOM TIPOVUELO              OPERA  \\\n",
       "0  SCEL  KMIA   AAL    1    1  2017    Domingo         I  American Airlines   \n",
       "1  SCEL  KMIA   AAL    2    1  2017      Lunes         I  American Airlines   \n",
       "2  SCEL  KMIA   AAL    3    1  2017     Martes         I  American Airlines   \n",
       "3  SCEL  KMIA   AAL    4    1  2017  Miercoles         I  American Airlines   \n",
       "4  SCEL  KMIA   AAL    5    1  2017     Jueves         I  American Airlines   \n",
       "\n",
       "   SIGLAORI SIGLADES  \n",
       "0  Santiago    Miami  \n",
       "1  Santiago    Miami  \n",
       "2  Santiago    Miami  \n",
       "3  Santiago    Miami  \n",
       "4  Santiago    Miami  "
      ]
     },
     "execution_count": 2,
     "metadata": {},
     "output_type": "execute_result"
    }
   ],
   "source": [
    "base_df.head() # we can see delayed flights"
   ]
  },
  {
   "cell_type": "code",
   "execution_count": 3,
   "metadata": {},
   "outputs": [
    {
     "data": {
      "text/html": [
       "<div>\n",
       "<style scoped>\n",
       "    .dataframe tbody tr th:only-of-type {\n",
       "        vertical-align: middle;\n",
       "    }\n",
       "\n",
       "    .dataframe tbody tr th {\n",
       "        vertical-align: top;\n",
       "    }\n",
       "\n",
       "    .dataframe thead th {\n",
       "        text-align: right;\n",
       "    }\n",
       "</style>\n",
       "<table border=\"1\" class=\"dataframe\">\n",
       "  <thead>\n",
       "    <tr style=\"text-align: right;\">\n",
       "      <th></th>\n",
       "      <th>Fecha-I</th>\n",
       "      <th>Vlo-I</th>\n",
       "      <th>Ori-I</th>\n",
       "      <th>Des-I</th>\n",
       "      <th>Emp-I</th>\n",
       "      <th>Fecha-O</th>\n",
       "      <th>Vlo-O</th>\n",
       "      <th>Ori-O</th>\n",
       "      <th>Des-O</th>\n",
       "      <th>Emp-O</th>\n",
       "      <th>DIA</th>\n",
       "      <th>MES</th>\n",
       "      <th>AÑO</th>\n",
       "      <th>DIANOM</th>\n",
       "      <th>TIPOVUELO</th>\n",
       "      <th>OPERA</th>\n",
       "      <th>SIGLAORI</th>\n",
       "      <th>SIGLADES</th>\n",
       "    </tr>\n",
       "  </thead>\n",
       "  <tbody>\n",
       "    <tr>\n",
       "      <th>68201</th>\n",
       "      <td>2017-12-22 14:55:00</td>\n",
       "      <td>400</td>\n",
       "      <td>SCEL</td>\n",
       "      <td>SPJC</td>\n",
       "      <td>JAT</td>\n",
       "      <td>2017-12-22 15:41:00</td>\n",
       "      <td>400.0</td>\n",
       "      <td>SCEL</td>\n",
       "      <td>SPJC</td>\n",
       "      <td>JAT</td>\n",
       "      <td>22</td>\n",
       "      <td>12</td>\n",
       "      <td>2017</td>\n",
       "      <td>Viernes</td>\n",
       "      <td>I</td>\n",
       "      <td>JetSmart SPA</td>\n",
       "      <td>Santiago</td>\n",
       "      <td>Lima</td>\n",
       "    </tr>\n",
       "    <tr>\n",
       "      <th>68202</th>\n",
       "      <td>2017-12-25 14:55:00</td>\n",
       "      <td>400</td>\n",
       "      <td>SCEL</td>\n",
       "      <td>SPJC</td>\n",
       "      <td>JAT</td>\n",
       "      <td>2017-12-25 15:11:00</td>\n",
       "      <td>400.0</td>\n",
       "      <td>SCEL</td>\n",
       "      <td>SPJC</td>\n",
       "      <td>JAT</td>\n",
       "      <td>25</td>\n",
       "      <td>12</td>\n",
       "      <td>2017</td>\n",
       "      <td>Lunes</td>\n",
       "      <td>I</td>\n",
       "      <td>JetSmart SPA</td>\n",
       "      <td>Santiago</td>\n",
       "      <td>Lima</td>\n",
       "    </tr>\n",
       "    <tr>\n",
       "      <th>68203</th>\n",
       "      <td>2017-12-27 14:55:00</td>\n",
       "      <td>400</td>\n",
       "      <td>SCEL</td>\n",
       "      <td>SPJC</td>\n",
       "      <td>JAT</td>\n",
       "      <td>2017-12-27 15:35:00</td>\n",
       "      <td>400.0</td>\n",
       "      <td>SCEL</td>\n",
       "      <td>SPJC</td>\n",
       "      <td>JAT</td>\n",
       "      <td>27</td>\n",
       "      <td>12</td>\n",
       "      <td>2017</td>\n",
       "      <td>Miercoles</td>\n",
       "      <td>I</td>\n",
       "      <td>JetSmart SPA</td>\n",
       "      <td>Santiago</td>\n",
       "      <td>Lima</td>\n",
       "    </tr>\n",
       "    <tr>\n",
       "      <th>68204</th>\n",
       "      <td>2017-12-29 14:55:00</td>\n",
       "      <td>400</td>\n",
       "      <td>SCEL</td>\n",
       "      <td>SPJC</td>\n",
       "      <td>JAT</td>\n",
       "      <td>2017-12-29 15:08:00</td>\n",
       "      <td>400.0</td>\n",
       "      <td>SCEL</td>\n",
       "      <td>SPJC</td>\n",
       "      <td>JAT</td>\n",
       "      <td>29</td>\n",
       "      <td>12</td>\n",
       "      <td>2017</td>\n",
       "      <td>Viernes</td>\n",
       "      <td>I</td>\n",
       "      <td>JetSmart SPA</td>\n",
       "      <td>Santiago</td>\n",
       "      <td>Lima</td>\n",
       "    </tr>\n",
       "    <tr>\n",
       "      <th>68205</th>\n",
       "      <td>2017-12-31 14:55:00</td>\n",
       "      <td>400</td>\n",
       "      <td>SCEL</td>\n",
       "      <td>SPJC</td>\n",
       "      <td>JAT</td>\n",
       "      <td>2017-12-31 15:04:00</td>\n",
       "      <td>400.0</td>\n",
       "      <td>SCEL</td>\n",
       "      <td>SPJC</td>\n",
       "      <td>JAT</td>\n",
       "      <td>31</td>\n",
       "      <td>12</td>\n",
       "      <td>2017</td>\n",
       "      <td>Domingo</td>\n",
       "      <td>I</td>\n",
       "      <td>JetSmart SPA</td>\n",
       "      <td>Santiago</td>\n",
       "      <td>Lima</td>\n",
       "    </tr>\n",
       "  </tbody>\n",
       "</table>\n",
       "</div>"
      ],
      "text/plain": [
       "                   Fecha-I Vlo-I Ori-I Des-I Emp-I              Fecha-O  \\\n",
       "68201  2017-12-22 14:55:00   400  SCEL  SPJC   JAT  2017-12-22 15:41:00   \n",
       "68202  2017-12-25 14:55:00   400  SCEL  SPJC   JAT  2017-12-25 15:11:00   \n",
       "68203  2017-12-27 14:55:00   400  SCEL  SPJC   JAT  2017-12-27 15:35:00   \n",
       "68204  2017-12-29 14:55:00   400  SCEL  SPJC   JAT  2017-12-29 15:08:00   \n",
       "68205  2017-12-31 14:55:00   400  SCEL  SPJC   JAT  2017-12-31 15:04:00   \n",
       "\n",
       "       Vlo-O Ori-O Des-O Emp-O  DIA  MES   AÑO     DIANOM TIPOVUELO  \\\n",
       "68201  400.0  SCEL  SPJC   JAT   22   12  2017    Viernes         I   \n",
       "68202  400.0  SCEL  SPJC   JAT   25   12  2017      Lunes         I   \n",
       "68203  400.0  SCEL  SPJC   JAT   27   12  2017  Miercoles         I   \n",
       "68204  400.0  SCEL  SPJC   JAT   29   12  2017    Viernes         I   \n",
       "68205  400.0  SCEL  SPJC   JAT   31   12  2017    Domingo         I   \n",
       "\n",
       "              OPERA  SIGLAORI SIGLADES  \n",
       "68201  JetSmart SPA  Santiago     Lima  \n",
       "68202  JetSmart SPA  Santiago     Lima  \n",
       "68203  JetSmart SPA  Santiago     Lima  \n",
       "68204  JetSmart SPA  Santiago     Lima  \n",
       "68205  JetSmart SPA  Santiago     Lima  "
      ]
     },
     "execution_count": 3,
     "metadata": {},
     "output_type": "execute_result"
    }
   ],
   "source": [
    "base_df.tail() # we can see some format changes on Vlo-O"
   ]
  },
  {
   "cell_type": "code",
   "execution_count": 4,
   "metadata": {},
   "outputs": [
    {
     "name": "stdout",
     "output_type": "stream",
     "text": [
      "<class 'pandas.core.frame.DataFrame'>\n",
      "RangeIndex: 68206 entries, 0 to 68205\n",
      "Data columns (total 18 columns):\n",
      " #   Column     Non-Null Count  Dtype \n",
      "---  ------     --------------  ----- \n",
      " 0   Fecha-I    68206 non-null  object\n",
      " 1   Vlo-I      68206 non-null  object\n",
      " 2   Ori-I      68206 non-null  object\n",
      " 3   Des-I      68206 non-null  object\n",
      " 4   Emp-I      68206 non-null  object\n",
      " 5   Fecha-O    68206 non-null  object\n",
      " 6   Vlo-O      68205 non-null  object\n",
      " 7   Ori-O      68206 non-null  object\n",
      " 8   Des-O      68206 non-null  object\n",
      " 9   Emp-O      68206 non-null  object\n",
      " 10  DIA        68206 non-null  int64 \n",
      " 11  MES        68206 non-null  int64 \n",
      " 12  AÑO        68206 non-null  int64 \n",
      " 13  DIANOM     68206 non-null  object\n",
      " 14  TIPOVUELO  68206 non-null  object\n",
      " 15  OPERA      68206 non-null  object\n",
      " 16  SIGLAORI   68206 non-null  object\n",
      " 17  SIGLADES   68206 non-null  object\n",
      "dtypes: int64(3), object(15)\n",
      "memory usage: 9.4+ MB\n"
     ]
    }
   ],
   "source": [
    "base_df.info()"
   ]
  },
  {
   "attachments": {},
   "cell_type": "markdown",
   "metadata": {},
   "source": [
    "You can notice that apart from **DIA**, **MES** and **AÑO**, all the fields on the data are objects (strings). That being said, before seeing the distribution of the data, let's transform **Fecha-I** and **Fecha-O** to datetime. All the other fields will be seing as categorical values and will be properly managed later on."
   ]
  },
  {
   "cell_type": "code",
   "execution_count": 5,
   "metadata": {},
   "outputs": [
    {
     "name": "stdout",
     "output_type": "stream",
     "text": [
      "<class 'pandas.core.frame.DataFrame'>\n",
      "RangeIndex: 68206 entries, 0 to 68205\n",
      "Data columns (total 18 columns):\n",
      " #   Column     Non-Null Count  Dtype         \n",
      "---  ------     --------------  -----         \n",
      " 0   Fecha-I    68206 non-null  datetime64[ns]\n",
      " 1   Vlo-I      68206 non-null  object        \n",
      " 2   Ori-I      68206 non-null  object        \n",
      " 3   Des-I      68206 non-null  object        \n",
      " 4   Emp-I      68206 non-null  object        \n",
      " 5   Fecha-O    68206 non-null  datetime64[ns]\n",
      " 6   Vlo-O      68205 non-null  object        \n",
      " 7   Ori-O      68206 non-null  object        \n",
      " 8   Des-O      68206 non-null  object        \n",
      " 9   Emp-O      68206 non-null  object        \n",
      " 10  DIA        68206 non-null  int64         \n",
      " 11  MES        68206 non-null  int64         \n",
      " 12  AÑO        68206 non-null  int64         \n",
      " 13  DIANOM     68206 non-null  object        \n",
      " 14  TIPOVUELO  68206 non-null  object        \n",
      " 15  OPERA      68206 non-null  object        \n",
      " 16  SIGLAORI   68206 non-null  object        \n",
      " 17  SIGLADES   68206 non-null  object        \n",
      "dtypes: datetime64[ns](2), int64(3), object(13)\n",
      "memory usage: 9.4+ MB\n"
     ]
    }
   ],
   "source": [
    "base_df['Fecha-I'] = pd.to_datetime(base_df['Fecha-I'])\n",
    "base_df['Fecha-O'] = pd.to_datetime(base_df['Fecha-O'])\n",
    "base_df.info()"
   ]
  },
  {
   "attachments": {},
   "cell_type": "markdown",
   "metadata": {},
   "source": [
    "The conversion worked great. Now let's take a closer look to the Vlo-O field."
   ]
  },
  {
   "cell_type": "code",
   "execution_count": 6,
   "metadata": {},
   "outputs": [
    {
     "name": "stdout",
     "output_type": "stream",
     "text": [
      "<class 'pandas.core.series.Series'>\n",
      "RangeIndex: 68206 entries, 0 to 68205\n",
      "Series name: Vlo-O\n",
      "Non-Null Count  Dtype \n",
      "--------------  ----- \n",
      "68205 non-null  object\n",
      "dtypes: object(1)\n",
      "memory usage: 533.0+ KB\n",
      "None\n",
      "\n",
      "DF Shape: (68206, 18)\n"
     ]
    }
   ],
   "source": [
    "print(base_df['Vlo-O'].info()) \n",
    "print('\\nDF Shape: {}'.format(base_df.shape))"
   ]
  },
  {
   "attachments": {},
   "cell_type": "markdown",
   "metadata": {},
   "source": [
    "You can notice that Vlo-O has **only ONE** null value. So let's see this affected row"
   ]
  },
  {
   "cell_type": "code",
   "execution_count": 7,
   "metadata": {},
   "outputs": [
    {
     "data": {
      "text/html": [
       "<div>\n",
       "<style scoped>\n",
       "    .dataframe tbody tr th:only-of-type {\n",
       "        vertical-align: middle;\n",
       "    }\n",
       "\n",
       "    .dataframe tbody tr th {\n",
       "        vertical-align: top;\n",
       "    }\n",
       "\n",
       "    .dataframe thead th {\n",
       "        text-align: right;\n",
       "    }\n",
       "</style>\n",
       "<table border=\"1\" class=\"dataframe\">\n",
       "  <thead>\n",
       "    <tr style=\"text-align: right;\">\n",
       "      <th></th>\n",
       "      <th>Fecha-I</th>\n",
       "      <th>Vlo-I</th>\n",
       "      <th>Ori-I</th>\n",
       "      <th>Des-I</th>\n",
       "      <th>Emp-I</th>\n",
       "      <th>Fecha-O</th>\n",
       "      <th>Vlo-O</th>\n",
       "      <th>Ori-O</th>\n",
       "      <th>Des-O</th>\n",
       "      <th>Emp-O</th>\n",
       "      <th>DIA</th>\n",
       "      <th>MES</th>\n",
       "      <th>AÑO</th>\n",
       "      <th>DIANOM</th>\n",
       "      <th>TIPOVUELO</th>\n",
       "      <th>OPERA</th>\n",
       "      <th>SIGLAORI</th>\n",
       "      <th>SIGLADES</th>\n",
       "    </tr>\n",
       "  </thead>\n",
       "  <tbody>\n",
       "    <tr>\n",
       "      <th>6068</th>\n",
       "      <td>2017-01-19 11:00:00</td>\n",
       "      <td>200</td>\n",
       "      <td>SCEL</td>\n",
       "      <td>SPJC</td>\n",
       "      <td>LAW</td>\n",
       "      <td>2017-01-19 11:03:00</td>\n",
       "      <td>NaN</td>\n",
       "      <td>SCEL</td>\n",
       "      <td>SPJC</td>\n",
       "      <td>56R</td>\n",
       "      <td>19</td>\n",
       "      <td>1</td>\n",
       "      <td>2017</td>\n",
       "      <td>Jueves</td>\n",
       "      <td>I</td>\n",
       "      <td>Latin American Wings</td>\n",
       "      <td>Santiago</td>\n",
       "      <td>Lima</td>\n",
       "    </tr>\n",
       "  </tbody>\n",
       "</table>\n",
       "</div>"
      ],
      "text/plain": [
       "                 Fecha-I Vlo-I Ori-I Des-I Emp-I             Fecha-O Vlo-O  \\\n",
       "6068 2017-01-19 11:00:00   200  SCEL  SPJC   LAW 2017-01-19 11:03:00   NaN   \n",
       "\n",
       "     Ori-O Des-O Emp-O  DIA  MES   AÑO  DIANOM TIPOVUELO  \\\n",
       "6068  SCEL  SPJC   56R   19    1  2017  Jueves         I   \n",
       "\n",
       "                     OPERA  SIGLAORI SIGLADES  \n",
       "6068  Latin American Wings  Santiago     Lima  "
      ]
     },
     "execution_count": 7,
     "metadata": {},
     "output_type": "execute_result"
    }
   ],
   "source": [
    "# Let's check the row with the missing value\n",
    "base_df[base_df.isna().any(axis=1)]"
   ]
  },
  {
   "attachments": {},
   "cell_type": "markdown",
   "metadata": {},
   "source": [
    "From the first and last five samples, we could think there's a correlation between Vlo-I and Vlo-O. In addition, if we take in consideration the data dictionary (the definitions stated at the beginning of this notebook and in the instructions pdf ), we can see that theese values should be similar (if not equals) in most of the cases. Taking that in consideration, let's use that Vlo-I value, to replace the Vlo-O's missing one."
   ]
  },
  {
   "cell_type": "code",
   "execution_count": 8,
   "metadata": {},
   "outputs": [
    {
     "name": "stdout",
     "output_type": "stream",
     "text": [
      "Fecha-I      0\n",
      "Vlo-I        0\n",
      "Ori-I        0\n",
      "Des-I        0\n",
      "Emp-I        0\n",
      "Fecha-O      0\n",
      "Vlo-O        0\n",
      "Ori-O        0\n",
      "Des-O        0\n",
      "Emp-O        0\n",
      "DIA          0\n",
      "MES          0\n",
      "AÑO          0\n",
      "DIANOM       0\n",
      "TIPOVUELO    0\n",
      "OPERA        0\n",
      "SIGLAORI     0\n",
      "SIGLADES     0\n",
      "dtype: int64\n"
     ]
    }
   ],
   "source": [
    "# Let's use fillna to solve this problem\n",
    "base_df['Vlo-O'] = base_df['Vlo-O'].fillna(base_df['Vlo-I'])\n",
    "\n",
    "# Let's print the nan sum of all the dataset\n",
    "print(base_df.isna().sum())"
   ]
  },
  {
   "attachments": {},
   "cell_type": "markdown",
   "metadata": {},
   "source": [
    "It seems there isn't any more NaN vallues. Let's print the same row again, just for double check."
   ]
  },
  {
   "cell_type": "code",
   "execution_count": 9,
   "metadata": {},
   "outputs": [
    {
     "data": {
      "text/html": [
       "<div>\n",
       "<style scoped>\n",
       "    .dataframe tbody tr th:only-of-type {\n",
       "        vertical-align: middle;\n",
       "    }\n",
       "\n",
       "    .dataframe tbody tr th {\n",
       "        vertical-align: top;\n",
       "    }\n",
       "\n",
       "    .dataframe thead th {\n",
       "        text-align: right;\n",
       "    }\n",
       "</style>\n",
       "<table border=\"1\" class=\"dataframe\">\n",
       "  <thead>\n",
       "    <tr style=\"text-align: right;\">\n",
       "      <th></th>\n",
       "      <th>Fecha-I</th>\n",
       "      <th>Vlo-I</th>\n",
       "      <th>Ori-I</th>\n",
       "      <th>Des-I</th>\n",
       "      <th>Emp-I</th>\n",
       "      <th>Fecha-O</th>\n",
       "      <th>Vlo-O</th>\n",
       "      <th>Ori-O</th>\n",
       "      <th>Des-O</th>\n",
       "      <th>Emp-O</th>\n",
       "      <th>DIA</th>\n",
       "      <th>MES</th>\n",
       "      <th>AÑO</th>\n",
       "      <th>DIANOM</th>\n",
       "      <th>TIPOVUELO</th>\n",
       "      <th>OPERA</th>\n",
       "      <th>SIGLAORI</th>\n",
       "      <th>SIGLADES</th>\n",
       "    </tr>\n",
       "  </thead>\n",
       "  <tbody>\n",
       "    <tr>\n",
       "      <th>6068</th>\n",
       "      <td>2017-01-19 11:00:00</td>\n",
       "      <td>200</td>\n",
       "      <td>SCEL</td>\n",
       "      <td>SPJC</td>\n",
       "      <td>LAW</td>\n",
       "      <td>2017-01-19 11:03:00</td>\n",
       "      <td>200</td>\n",
       "      <td>SCEL</td>\n",
       "      <td>SPJC</td>\n",
       "      <td>56R</td>\n",
       "      <td>19</td>\n",
       "      <td>1</td>\n",
       "      <td>2017</td>\n",
       "      <td>Jueves</td>\n",
       "      <td>I</td>\n",
       "      <td>Latin American Wings</td>\n",
       "      <td>Santiago</td>\n",
       "      <td>Lima</td>\n",
       "    </tr>\n",
       "  </tbody>\n",
       "</table>\n",
       "</div>"
      ],
      "text/plain": [
       "                 Fecha-I Vlo-I Ori-I Des-I Emp-I             Fecha-O Vlo-O  \\\n",
       "6068 2017-01-19 11:00:00   200  SCEL  SPJC   LAW 2017-01-19 11:03:00   200   \n",
       "\n",
       "     Ori-O Des-O Emp-O  DIA  MES   AÑO  DIANOM TIPOVUELO  \\\n",
       "6068  SCEL  SPJC   56R   19    1  2017  Jueves         I   \n",
       "\n",
       "                     OPERA  SIGLAORI SIGLADES  \n",
       "6068  Latin American Wings  Santiago     Lima  "
      ]
     },
     "execution_count": 9,
     "metadata": {},
     "output_type": "execute_result"
    }
   ],
   "source": [
    "base_df.loc[(base_df['Fecha-I'] == '2017-01-19 11:00:00') & (base_df['Fecha-O'] == '2017-01-19 11:03:00')]\n",
    "# used this way to keep the same output format  a simple .loc[index] should have the work done"
   ]
  },
  {
   "attachments": {},
   "cell_type": "markdown",
   "metadata": {},
   "source": [
    "You can notice Vlo-O and Vlo-I are the same, so everything is fine. Now let's check the format of the same two fields. If you recall the output from the head() and tail() pandas functions, you could have noted that there was some format change, so now let's see if that statement is right."
   ]
  },
  {
   "cell_type": "code",
   "execution_count": 10,
   "metadata": {},
   "outputs": [
    {
     "name": "stdout",
     "output_type": "stream",
     "text": [
      "                  Fecha-I  Vlo-I Ori-I Des-I Emp-I             Fecha-O Vlo-O  \\\n",
      "22232 2017-05-13 21:50:00   989P  SCEL  SUMU   AAL 2017-05-13 21:52:00   989   \n",
      "27464 2017-06-16 20:30:00   940P  SCEL  KDFW   AAL 2017-06-16 20:50:00   940   \n",
      "39225 2017-08-07 19:00:00   591P  SCEL  LFPG   PUE 2017-08-07 20:35:00  591P   \n",
      "39266 2017-08-24 23:00:00   846A  SCEL  KIAH   UAL 2017-08-24 23:00:00  2804   \n",
      "58126 2017-11-05 17:00:00  1104A  SCEL  SCSE   SKU 2017-11-05 17:42:00  1104   \n",
      "\n",
      "      Ori-O Des-O Emp-O  DIA  MES   AÑO   DIANOM TIPOVUELO  \\\n",
      "22232  SCEL  SUMU   AAL   13    5  2017   Sabado         I   \n",
      "27464  SCEL  KDFW   AAL   16    6  2017  Viernes         I   \n",
      "39225  SCEL  LFPG   PUE    7    8  2017    Lunes         I   \n",
      "39266  SCEL  KIAH   UAL   24    8  2017   Jueves         I   \n",
      "58126  SCEL  SCSE   SKU    5   11  2017  Domingo         N   \n",
      "\n",
      "                          OPERA  SIGLAORI    SIGLADES  \n",
      "22232         American Airlines  Santiago  Montevideo  \n",
      "27464         American Airlines  Santiago      Dallas  \n",
      "39225  Plus Ultra Lineas Aereas  Santiago       Paris  \n",
      "39266           United Airlines  Santiago     Houston  \n",
      "58126               Sky Airline  Santiago   La Serena  \n",
      "\n",
      "TOTAL MATCHING ROWS (Vlo-I Letters): 5\n",
      "\n",
      "Value: 226 - Type: <class 'str'>\n",
      "Value: 265 - Type: <class 'int'>\n",
      "\n",
      "Empty DataFrame\n",
      "Columns: [Fecha-I, Vlo-I, Ori-I, Des-I, Emp-I, Fecha-O, Vlo-O, Ori-O, Des-O, Emp-O, DIA, MES, AÑO, DIANOM, TIPOVUELO, OPERA, SIGLAORI, SIGLADES]\n",
      "Index: []\n",
      "\n",
      "TOTAL MATCHING ROWS (Vlo-I Decimals): 0\n",
      "\n"
     ]
    }
   ],
   "source": [
    "# Checking if the field Vlo-I is just a numeric string or has some letters in it\n",
    "vlo_i = base_df[base_df['Vlo-I'].astype(str).str.contains('[a-zA-Z]', na=False)]\n",
    "print(vlo_i)\n",
    "print('\\nTOTAL MATCHING ROWS (Vlo-I Letters): {}\\n'.format(vlo_i.shape[0]))\n",
    "\n",
    "tolerance = [0, 0, 0]\n",
    "for val in base_df['Vlo-I'].tolist():\n",
    "    if type(val) == str and tolerance[0] == 0: # this is to get the first value that matches, could be changed\n",
    "        print('Value: {} - Type: {}'.format(val, type(val)))\n",
    "        tolerance[0] += 1\n",
    "\n",
    "    elif type(val) == int and tolerance[1] == 0:\n",
    "        print('Value: {} - Type: {}'.format(val, type(val)))\n",
    "        tolerance[1] += 1\n",
    "    \n",
    "    elif type(val) == float and tolerance[2] == 0:\n",
    "        print('Value: {} - Type: {}'.format(val, type(val)))\n",
    "        tolerance[2] += 1\n",
    "\n",
    "   \n",
    "\n",
    "# Let's check if has decimals too\n",
    "vlo_i_d = base_df[base_df['Vlo-I'].astype(str).str.contains('\\.[0-9]', na=False)]\n",
    "print()\n",
    "print(vlo_i_d)\n",
    "print('\\nTOTAL MATCHING ROWS (Vlo-I Decimals): {}\\n'.format(vlo_i_d.shape[0]))\n"
   ]
  },
  {
   "cell_type": "code",
   "execution_count": 11,
   "metadata": {},
   "outputs": [
    {
     "name": "stdout",
     "output_type": "stream",
     "text": [
      "                  Fecha-I Vlo-I Ori-I Des-I Emp-I             Fecha-O Vlo-O  \\\n",
      "13906 2017-03-30 10:30:00    71  SCEL  SCIE   SKU 2017-03-30 10:50:00   71R   \n",
      "13907 2017-03-22 11:00:00  1071  SCEL  SCIE   SKU 2017-03-22 11:00:00   71R   \n",
      "17055 2017-03-22 10:00:00   201  SCEL  SCIE   LXP 2017-03-22 11:50:00  201R   \n",
      "19207 2017-04-25 09:00:00    71  SCEL  SCIE   SKU 2017-04-25 09:29:00   71R   \n",
      "22167 2017-04-06 21:10:00    43  SCEL  SCIE   LAW 2017-04-06 21:24:00   43R   \n",
      "22301 2017-05-26 09:40:00   401  SCEL  LFPG   AFR 2017-05-26 10:03:00  401A   \n",
      "22302 2017-05-28 09:40:00   401  SCEL  LFPG   AFR 2017-05-28 09:43:00  401B   \n",
      "24304 2017-05-11 10:00:00   802  SCEL  SPJC   SKU 2017-05-11 10:36:00  802R   \n",
      "27246 2017-05-15 12:15:00   114  SCEL  SCAT   LAN 2017-05-15 13:10:00  114R   \n",
      "27247 2017-05-25 13:15:00   622  SCEL  MMMX   LAN 2017-05-25 13:23:00  622R   \n",
      "32196 2017-06-29 12:40:00   492  SCEL  SACO   LAN 2017-06-29 12:27:00  492R   \n",
      "38150 2017-07-10 23:30:00   338  SCEL  SCFA   LXP 2017-07-10 23:35:00  338R   \n",
      "39225 2017-08-07 19:00:00  591P  SCEL  LFPG   PUE 2017-08-07 20:35:00  591P   \n",
      "44939 2017-09-28 21:30:00   846  SCEL  KIAH   UAL 2017-09-28 21:44:00  846A   \n",
      "55354 2017-10-19 03:30:00   502  SCEL  KMIA   LAN 2017-10-19 03:33:00  502R   \n",
      "61426 2017-11-05 16:30:00   207  SCEL  SCIE   LXP 2017-11-05 18:22:00  207R   \n",
      "\n",
      "      Ori-O Des-O Emp-O  DIA  MES   AÑO     DIANOM TIPOVUELO  \\\n",
      "13906  SCEL  SCIE   SKU   30    3  2017     Jueves         N   \n",
      "13907  SCEL  SCIE   SKU   22    3  2017  Miercoles         N   \n",
      "17055  SCEL  SCIE   LXP   22    3  2017  Miercoles         N   \n",
      "19207  SCEL  SCIE   SKU   25    4  2017     Martes         N   \n",
      "22167  SCEL  SCIE   JMR    6    4  2017     Jueves         N   \n",
      "22301  SCEL  LFPG   AFR   26    5  2017    Viernes         I   \n",
      "22302  SCEL  LFPG   AFR   28    5  2017    Domingo         I   \n",
      "24304  SCEL  SPJC   SKU   11    5  2017     Jueves         I   \n",
      "27246  SCEL  SCAT   LAN   15    5  2017      Lunes         N   \n",
      "27247  SCEL  MMMX   LAN   25    5  2017     Jueves         I   \n",
      "32196  SCEL  SACO   LAN   29    6  2017     Jueves         I   \n",
      "38150  SCEL  SCFA   LXP   10    7  2017      Lunes         N   \n",
      "39225  SCEL  LFPG   PUE    7    8  2017      Lunes         I   \n",
      "44939  SCEL  KIAH   UAL   28    9  2017     Jueves         I   \n",
      "55354  SCEL  KMIA   LAN   19   10  2017     Jueves         I   \n",
      "61426  SCEL  SCIE   LXP    5   11  2017    Domingo         N   \n",
      "\n",
      "                          OPERA  SIGLAORI          SIGLADES  \n",
      "13906               Sky Airline  Santiago        Concepcion  \n",
      "13907               Sky Airline  Santiago        Concepcion  \n",
      "17055               Grupo LATAM  Santiago        Concepcion  \n",
      "19207               Sky Airline  Santiago        Concepcion  \n",
      "22167      Latin American Wings  Santiago        Concepcion  \n",
      "22301                Air France  Santiago             Paris  \n",
      "22302                Air France  Santiago             Paris  \n",
      "24304               Sky Airline  Santiago              Lima  \n",
      "27246               Grupo LATAM  Santiago           Copiapo  \n",
      "27247               Grupo LATAM  Santiago  Ciudad de Mexico  \n",
      "32196               Grupo LATAM  Santiago           Cordoba  \n",
      "38150               Grupo LATAM  Santiago       Antofagasta  \n",
      "39225  Plus Ultra Lineas Aereas  Santiago             Paris  \n",
      "44939           United Airlines  Santiago           Houston  \n",
      "55354               Grupo LATAM  Santiago             Miami  \n",
      "61426               Grupo LATAM  Santiago        Concepcion  \n",
      "\n",
      "TOTAL MATCHING ROWS (Vlo-O Letters): 16\n",
      "\n"
     ]
    }
   ],
   "source": [
    "# Checking if the field Vlo-O is just a numeric string or has some letters in it\n",
    "vlo_o = base_df[base_df['Vlo-O'].astype(str).str.contains('[a-zA-Z]', na=False)]\n",
    "print(vlo_o)\n",
    "print('\\nTOTAL MATCHING ROWS (Vlo-O Letters): {}\\n'.format(vlo_o.shape[0]))"
   ]
  },
  {
   "cell_type": "code",
   "execution_count": 12,
   "metadata": {},
   "outputs": [
    {
     "name": "stdout",
     "output_type": "stream",
     "text": [
      "                  Fecha-I Vlo-I Ori-I Des-I Emp-I             Fecha-O  Vlo-O  \\\n",
      "63806 2017-12-15 11:00:00   150  SCEL  SCFA   SKU 2017-12-15 11:19:00  150.0   \n",
      "63807 2017-12-16 11:20:00   150  SCEL  SCFA   SKU 2017-12-16 11:34:00  150.0   \n",
      "63808 2017-12-17 11:00:00   150  SCEL  SCFA   SKU 2017-12-17 11:35:00  150.0   \n",
      "63809 2017-12-18 11:00:00   150  SCEL  SCFA   SKU 2017-12-18 11:21:00  150.0   \n",
      "63810 2017-12-19 11:00:00   150  SCEL  SCFA   SKU 2017-12-19 11:19:00  150.0   \n",
      "...                   ...   ...   ...   ...   ...                 ...    ...   \n",
      "68201 2017-12-22 14:55:00   400  SCEL  SPJC   JAT 2017-12-22 15:41:00  400.0   \n",
      "68202 2017-12-25 14:55:00   400  SCEL  SPJC   JAT 2017-12-25 15:11:00  400.0   \n",
      "68203 2017-12-27 14:55:00   400  SCEL  SPJC   JAT 2017-12-27 15:35:00  400.0   \n",
      "68204 2017-12-29 14:55:00   400  SCEL  SPJC   JAT 2017-12-29 15:08:00  400.0   \n",
      "68205 2017-12-31 14:55:00   400  SCEL  SPJC   JAT 2017-12-31 15:04:00  400.0   \n",
      "\n",
      "      Ori-O Des-O Emp-O  DIA  MES   AÑO     DIANOM TIPOVUELO         OPERA  \\\n",
      "63806  SCEL  SCFA   SKU   15   12  2017    Viernes         N   Sky Airline   \n",
      "63807  SCEL  SCFA   SKU   16   12  2017     Sabado         N   Sky Airline   \n",
      "63808  SCEL  SCFA   SKU   17   12  2017    Domingo         N   Sky Airline   \n",
      "63809  SCEL  SCFA   SKU   18   12  2017      Lunes         N   Sky Airline   \n",
      "63810  SCEL  SCFA   SKU   19   12  2017     Martes         N   Sky Airline   \n",
      "...     ...   ...   ...  ...  ...   ...        ...       ...           ...   \n",
      "68201  SCEL  SPJC   JAT   22   12  2017    Viernes         I  JetSmart SPA   \n",
      "68202  SCEL  SPJC   JAT   25   12  2017      Lunes         I  JetSmart SPA   \n",
      "68203  SCEL  SPJC   JAT   27   12  2017  Miercoles         I  JetSmart SPA   \n",
      "68204  SCEL  SPJC   JAT   29   12  2017    Viernes         I  JetSmart SPA   \n",
      "68205  SCEL  SPJC   JAT   31   12  2017    Domingo         I  JetSmart SPA   \n",
      "\n",
      "       SIGLAORI     SIGLADES  \n",
      "63806  Santiago  Antofagasta  \n",
      "63807  Santiago  Antofagasta  \n",
      "63808  Santiago  Antofagasta  \n",
      "63809  Santiago  Antofagasta  \n",
      "63810  Santiago  Antofagasta  \n",
      "...         ...          ...  \n",
      "68201  Santiago         Lima  \n",
      "68202  Santiago         Lima  \n",
      "68203  Santiago         Lima  \n",
      "68204  Santiago         Lima  \n",
      "68205  Santiago         Lima  \n",
      "\n",
      "[4400 rows x 18 columns]\n",
      "\n",
      "TOTAL MATCHING ROWS (Vlo-O Decimals): 4400\n",
      "\n"
     ]
    }
   ],
   "source": [
    "# Let's seek decimals\n",
    "vlo_o_d = base_df[base_df['Vlo-O'].astype(str).str.contains('\\.[0-9]', na=False)]\n",
    "print(vlo_o_d)\n",
    "print('\\nTOTAL MATCHING ROWS (Vlo-O Decimals): {}\\n'.format(vlo_o_d.shape[0]))"
   ]
  },
  {
   "cell_type": "code",
   "execution_count": 13,
   "metadata": {},
   "outputs": [
    {
     "name": "stdout",
     "output_type": "stream",
     "text": [
      "Value: 226 - Type: <class 'str'>\n",
      "Value: 265.0 - Type: <class 'float'>\n"
     ]
    }
   ],
   "source": [
    "tolerance = [0, 0, 0]\n",
    "for val in base_df['Vlo-O'].tolist():\n",
    "    if type(val) == str and tolerance[0] == 0: # this is to get the first value that matches, could be changed\n",
    "        print('Value: {} - Type: {}'.format(val, type(val)))\n",
    "        tolerance[0] += 1\n",
    "\n",
    "    elif type(val) == int and tolerance[1] == 0:\n",
    "        print('Value: {} - Type: {}'.format(val, type(val)))\n",
    "        tolerance[1] += 1\n",
    "        \n",
    "    elif type(val) == float and tolerance[2] == 0:\n",
    "        print('Value: {} - Type: {}'.format(val, type(val)))\n",
    "        tolerance[2] += 1"
   ]
  },
  {
   "attachments": {},
   "cell_type": "markdown",
   "metadata": {},
   "source": [
    "As you can see, there are 5 rows containing letters and 0 containing decimals on the column Vlo-I. But there are 16 rows containing letters, and the 4400 containing decimals on Vlo-O. There's also some weird behaviour on Vlo-I, for some reason there are float values in a column that it's dtype object (so it should be string only). Now, let's solve first the problem of the dtype on Vlo-I."
   ]
  },
  {
   "cell_type": "code",
   "execution_count": 14,
   "metadata": {},
   "outputs": [
    {
     "name": "stdout",
     "output_type": "stream",
     "text": [
      "Value: 226 - Type: <class 'str'>\n"
     ]
    }
   ],
   "source": [
    "base_df['Vlo-I'] = base_df['Vlo-I'].astype(str)\n",
    "\n",
    "# Let's Check\n",
    "tolerance = [0, 0]\n",
    "for val in base_df['Vlo-I'].tolist():\n",
    "    if type(val) == str and tolerance[0] == 0: # this is to get the first value that matches, could be changed\n",
    "        print('Value: {} - Type: {}'.format(val, type(val)))\n",
    "        tolerance[0] += 1\n",
    "\n",
    "    elif type(val) == int and tolerance[1] == 0:\n",
    "        print('Value: {} - Type: {}'.format(val, type(val)))\n",
    "        tolerance[1] += 1\n",
    "\n",
    "    elif type(val) == float and tolerance[2] == 0:\n",
    "        print('Value: {} - Type: {}'.format(val, type(val)))\n",
    "        tolerance[2] += 1"
   ]
  },
  {
   "cell_type": "code",
   "execution_count": null,
   "metadata": {},
   "outputs": [],
   "source": []
  },
  {
   "attachments": {},
   "cell_type": "markdown",
   "metadata": {},
   "source": [
    "Now let's solve the problem of the decimals on Vlo-O."
   ]
  },
  {
   "cell_type": "code",
   "execution_count": 15,
   "metadata": {},
   "outputs": [
    {
     "data": {
      "text/html": [
       "<div>\n",
       "<style scoped>\n",
       "    .dataframe tbody tr th:only-of-type {\n",
       "        vertical-align: middle;\n",
       "    }\n",
       "\n",
       "    .dataframe tbody tr th {\n",
       "        vertical-align: top;\n",
       "    }\n",
       "\n",
       "    .dataframe thead th {\n",
       "        text-align: right;\n",
       "    }\n",
       "</style>\n",
       "<table border=\"1\" class=\"dataframe\">\n",
       "  <thead>\n",
       "    <tr style=\"text-align: right;\">\n",
       "      <th></th>\n",
       "      <th>Fecha-I</th>\n",
       "      <th>Vlo-I</th>\n",
       "      <th>Ori-I</th>\n",
       "      <th>Des-I</th>\n",
       "      <th>Emp-I</th>\n",
       "      <th>Fecha-O</th>\n",
       "      <th>Vlo-O</th>\n",
       "      <th>Ori-O</th>\n",
       "      <th>Des-O</th>\n",
       "      <th>Emp-O</th>\n",
       "      <th>DIA</th>\n",
       "      <th>MES</th>\n",
       "      <th>AÑO</th>\n",
       "      <th>DIANOM</th>\n",
       "      <th>TIPOVUELO</th>\n",
       "      <th>OPERA</th>\n",
       "      <th>SIGLAORI</th>\n",
       "      <th>SIGLADES</th>\n",
       "    </tr>\n",
       "  </thead>\n",
       "  <tbody>\n",
       "    <tr>\n",
       "      <th>63806</th>\n",
       "      <td>2017-12-15 11:00:00</td>\n",
       "      <td>150</td>\n",
       "      <td>SCEL</td>\n",
       "      <td>SCFA</td>\n",
       "      <td>SKU</td>\n",
       "      <td>2017-12-15 11:19:00</td>\n",
       "      <td>150</td>\n",
       "      <td>SCEL</td>\n",
       "      <td>SCFA</td>\n",
       "      <td>SKU</td>\n",
       "      <td>15</td>\n",
       "      <td>12</td>\n",
       "      <td>2017</td>\n",
       "      <td>Viernes</td>\n",
       "      <td>N</td>\n",
       "      <td>Sky Airline</td>\n",
       "      <td>Santiago</td>\n",
       "      <td>Antofagasta</td>\n",
       "    </tr>\n",
       "  </tbody>\n",
       "</table>\n",
       "</div>"
      ],
      "text/plain": [
       "                  Fecha-I Vlo-I Ori-I Des-I Emp-I             Fecha-O Vlo-O  \\\n",
       "63806 2017-12-15 11:00:00   150  SCEL  SCFA   SKU 2017-12-15 11:19:00   150   \n",
       "\n",
       "      Ori-O Des-O Emp-O  DIA  MES   AÑO   DIANOM TIPOVUELO        OPERA  \\\n",
       "63806  SCEL  SCFA   SKU   15   12  2017  Viernes         N  Sky Airline   \n",
       "\n",
       "       SIGLAORI     SIGLADES  \n",
       "63806  Santiago  Antofagasta  "
      ]
     },
     "execution_count": 15,
     "metadata": {},
     "output_type": "execute_result"
    }
   ],
   "source": [
    "# First let's create a list with the values to change\n",
    "vlo_o_d = vlo_o_d['Vlo-O'].tolist()\n",
    "\n",
    "# Create a list with those values converted to int to eliminate the decimal\n",
    "vlo_o_int = [str(int(eval(str(i)))) for i in vlo_o_d]\n",
    "\n",
    "custom_df = base_df.copy() # we'll work with a copy to not mess up the original df\n",
    "custom_df.loc[custom_df['Vlo-O'].isin(vlo_o_d), 'Vlo-O'] = vlo_o_int # ensure it's formatted as str\n",
    "\n",
    "# Let's test with a flight from vlo_o_d series we had above ()\n",
    "custom_df[custom_df['Fecha-I'] == '2017-12-15 11:00:00']"
   ]
  },
  {
   "attachments": {},
   "cell_type": "markdown",
   "metadata": {},
   "source": [
    "As you can see, the decimal problem is solved. Now, under the assumption that Vlo-O and Vlo-I share information, we could see theese fields as a category. In order to prove that, let's see if theese fields have a set of unique values (with the size of that set being smaller than size of the dataset)"
   ]
  },
  {
   "cell_type": "code",
   "execution_count": 16,
   "metadata": {},
   "outputs": [
    {
     "name": "stdout",
     "output_type": "stream",
     "text": [
      "N°of Unique Vlo-I: 584\n",
      "Total samples: 68206\n",
      "This represents 0.86% of the data\n",
      "\n",
      "N°of Unique Vlo-O: 608\n",
      "Total samples: 68206\n",
      "This represents 0.89% of the data\n"
     ]
    }
   ],
   "source": [
    "# List of Vlo-I unique values\n",
    "unique_vloi = custom_df['Vlo-I'].unique().tolist()\n",
    "\n",
    "# List of Vlo-O unique values\n",
    "unique_vloo = custom_df['Vlo-O'].unique().tolist()\n",
    "\n",
    "print('N°of Unique Vlo-I: {}\\nTotal samples: {}'.format(len(unique_vloi), custom_df.shape[0]))\n",
    "print('This represents {:.2f}% of the data'.format((len(unique_vloi) * 100) / custom_df.shape[0])) # how small it is\n",
    "print('\\nN°of Unique Vlo-O: {}\\nTotal samples: {}'.format(len(unique_vloo), custom_df.shape[0]))\n",
    "print('This represents {:.2f}% of the data'.format((len(unique_vloo) * 100) / custom_df.shape[0]))"
   ]
  },
  {
   "attachments": {},
   "cell_type": "markdown",
   "metadata": {},
   "source": [
    "Based on the output above, it's safely to assume that those fields can behave as a category. In addition, the sizes of both lists are a somewhat similar, so we can build the joint dictionary."
   ]
  },
  {
   "cell_type": "code",
   "execution_count": 17,
   "metadata": {},
   "outputs": [
    {
     "name": "stdout",
     "output_type": "stream",
     "text": [
      "Sorted Vlo-I\n",
      "First 10 elements:\n",
      "['1', '3', '4', '5', '6', '7', '8', '9', '10', '11']\n",
      "Last 10 elements:\n",
      "['9659', '9661', '9662', '9673', '9689', '9701', '9782', '9851', '9955', '9956']\n",
      "\n",
      "Sorted Vlo-O\n",
      "First 10 elements:\n",
      "['1', '3', '4', '5', '6', '7', '8', '9', '10', '11']\n",
      "Last 10 elements:\n",
      "['9662', '9673', '9689', '9701', '9782', '9851', '9858', '9860', '9955', '9956']\n"
     ]
    }
   ],
   "source": [
    "# First let's sort both list\n",
    "sorted_vloi = sorted(unique_vloi, key=lambda x: int(\"\".join([i for i in str(x) if i.isdigit()])))\n",
    "sorted_vloo = sorted(unique_vloo, key=lambda x: int(\"\".join([i for i in str(x) if i.isdigit()])))\n",
    "\n",
    "# Check everything it's ok\n",
    "print('Sorted Vlo-I')\n",
    "print('First 10 elements:\\n{}\\nLast 10 elements:\\n{}\\n'.format(sorted_vloi[:10], sorted_vloi[-10:]))\n",
    "print('Sorted Vlo-O')\n",
    "print('First 10 elements:\\n{}\\nLast 10 elements:\\n{}'.format(sorted_vloo[:10], sorted_vloo[-10:]))"
   ]
  },
  {
   "attachments": {},
   "cell_type": "markdown",
   "metadata": {},
   "source": [
    "Only on the first and last ten elements we see that there're values presents in both lists. But just to be sure, let's see what values are not in both lists."
   ]
  },
  {
   "cell_type": "code",
   "execution_count": 18,
   "metadata": {},
   "outputs": [
    {
     "name": "stdout",
     "output_type": "stream",
     "text": [
      "Vlo-O\n",
      "Length of non_shared: 28\n",
      "Non Shared list: ['43R', '71R', '114R', '201R', '207R', '338R', '401A', '401B', '492R', '502R', '622R', '802R', '922', '989', '1001', '1160', '1297', '1303', '1304', '1318', '1346', '1361', '2726', '2763', '2804', '5924', '9858', '9860']\n",
      "\n",
      "Vlo-I\n",
      "Length of non_shared: 4\n",
      "Non Shared list: ['204', '940P', '989P', '1104A']\n"
     ]
    }
   ],
   "source": [
    "# First let's see the sorted_vloo values\n",
    "non_shared =  list()\n",
    "for val in sorted_vloo: \n",
    "    if val not in sorted_vloi:\n",
    "        non_shared.append(val)\n",
    "print('Vlo-O')\n",
    "print('Length of non_shared: {}\\nNon Shared list: {}\\n'.format(len(non_shared), non_shared))\n",
    "\n",
    "# Now let's see the sorted_vloi values\n",
    "non_shared =  list()\n",
    "for val in sorted_vloi: # use sorted_vloo since it has more elements\n",
    "    if val not in sorted_vloo:\n",
    "        non_shared.append(val)\n",
    "print('Vlo-I')\n",
    "print('Length of non_shared: {}\\nNon Shared list: {}'.format(len(non_shared), non_shared))\n"
   ]
  },
  {
   "attachments": {},
   "cell_type": "markdown",
   "metadata": {},
   "source": [
    "As you can notice, there were several values that were present on both fields. So it's safer to say that now we can build the categorical dictionary."
   ]
  },
  {
   "cell_type": "code",
   "execution_count": 19,
   "metadata": {},
   "outputs": [
    {
     "name": "stdout",
     "output_type": "stream",
     "text": [
      "Length of unique_flightNumber: 612\n"
     ]
    }
   ],
   "source": [
    "# Let's join both lists\n",
    "unique_flightNumber = np.unique((sorted_vloi + sorted_vloo)).tolist()\n",
    "print('Length of unique_flightNumber: {}'.format(len(unique_flightNumber)))\n",
    "\n",
    "flightNumber = dict()\n",
    "for fn in unique_flightNumber:\n",
    "    flightNumber[fn] = unique_flightNumber.index(fn)"
   ]
  },
  {
   "attachments": {},
   "cell_type": "markdown",
   "metadata": {},
   "source": [
    "With the dict ready, lets replace those values on the dataframe."
   ]
  },
  {
   "cell_type": "code",
   "execution_count": 20,
   "metadata": {},
   "outputs": [
    {
     "data": {
      "text/html": [
       "<div>\n",
       "<style scoped>\n",
       "    .dataframe tbody tr th:only-of-type {\n",
       "        vertical-align: middle;\n",
       "    }\n",
       "\n",
       "    .dataframe tbody tr th {\n",
       "        vertical-align: top;\n",
       "    }\n",
       "\n",
       "    .dataframe thead th {\n",
       "        text-align: right;\n",
       "    }\n",
       "</style>\n",
       "<table border=\"1\" class=\"dataframe\">\n",
       "  <thead>\n",
       "    <tr style=\"text-align: right;\">\n",
       "      <th></th>\n",
       "      <th>Fecha-I</th>\n",
       "      <th>Vlo-I</th>\n",
       "      <th>Ori-I</th>\n",
       "      <th>Des-I</th>\n",
       "      <th>Emp-I</th>\n",
       "      <th>Fecha-O</th>\n",
       "      <th>Vlo-O</th>\n",
       "      <th>Ori-O</th>\n",
       "      <th>Des-O</th>\n",
       "      <th>Emp-O</th>\n",
       "      <th>DIA</th>\n",
       "      <th>MES</th>\n",
       "      <th>AÑO</th>\n",
       "      <th>DIANOM</th>\n",
       "      <th>TIPOVUELO</th>\n",
       "      <th>OPERA</th>\n",
       "      <th>SIGLAORI</th>\n",
       "      <th>SIGLADES</th>\n",
       "    </tr>\n",
       "  </thead>\n",
       "  <tbody>\n",
       "    <tr>\n",
       "      <th>0</th>\n",
       "      <td>2017-01-01 23:30:00</td>\n",
       "      <td>230</td>\n",
       "      <td>SCEL</td>\n",
       "      <td>KMIA</td>\n",
       "      <td>AAL</td>\n",
       "      <td>2017-01-01 23:33:00</td>\n",
       "      <td>230</td>\n",
       "      <td>SCEL</td>\n",
       "      <td>KMIA</td>\n",
       "      <td>AAL</td>\n",
       "      <td>1</td>\n",
       "      <td>1</td>\n",
       "      <td>2017</td>\n",
       "      <td>Domingo</td>\n",
       "      <td>I</td>\n",
       "      <td>American Airlines</td>\n",
       "      <td>Santiago</td>\n",
       "      <td>Miami</td>\n",
       "    </tr>\n",
       "    <tr>\n",
       "      <th>1</th>\n",
       "      <td>2017-01-02 23:30:00</td>\n",
       "      <td>230</td>\n",
       "      <td>SCEL</td>\n",
       "      <td>KMIA</td>\n",
       "      <td>AAL</td>\n",
       "      <td>2017-01-02 23:39:00</td>\n",
       "      <td>230</td>\n",
       "      <td>SCEL</td>\n",
       "      <td>KMIA</td>\n",
       "      <td>AAL</td>\n",
       "      <td>2</td>\n",
       "      <td>1</td>\n",
       "      <td>2017</td>\n",
       "      <td>Lunes</td>\n",
       "      <td>I</td>\n",
       "      <td>American Airlines</td>\n",
       "      <td>Santiago</td>\n",
       "      <td>Miami</td>\n",
       "    </tr>\n",
       "    <tr>\n",
       "      <th>2</th>\n",
       "      <td>2017-01-03 23:30:00</td>\n",
       "      <td>230</td>\n",
       "      <td>SCEL</td>\n",
       "      <td>KMIA</td>\n",
       "      <td>AAL</td>\n",
       "      <td>2017-01-03 23:39:00</td>\n",
       "      <td>230</td>\n",
       "      <td>SCEL</td>\n",
       "      <td>KMIA</td>\n",
       "      <td>AAL</td>\n",
       "      <td>3</td>\n",
       "      <td>1</td>\n",
       "      <td>2017</td>\n",
       "      <td>Martes</td>\n",
       "      <td>I</td>\n",
       "      <td>American Airlines</td>\n",
       "      <td>Santiago</td>\n",
       "      <td>Miami</td>\n",
       "    </tr>\n",
       "    <tr>\n",
       "      <th>3</th>\n",
       "      <td>2017-01-04 23:30:00</td>\n",
       "      <td>230</td>\n",
       "      <td>SCEL</td>\n",
       "      <td>KMIA</td>\n",
       "      <td>AAL</td>\n",
       "      <td>2017-01-04 23:33:00</td>\n",
       "      <td>230</td>\n",
       "      <td>SCEL</td>\n",
       "      <td>KMIA</td>\n",
       "      <td>AAL</td>\n",
       "      <td>4</td>\n",
       "      <td>1</td>\n",
       "      <td>2017</td>\n",
       "      <td>Miercoles</td>\n",
       "      <td>I</td>\n",
       "      <td>American Airlines</td>\n",
       "      <td>Santiago</td>\n",
       "      <td>Miami</td>\n",
       "    </tr>\n",
       "    <tr>\n",
       "      <th>4</th>\n",
       "      <td>2017-01-05 23:30:00</td>\n",
       "      <td>230</td>\n",
       "      <td>SCEL</td>\n",
       "      <td>KMIA</td>\n",
       "      <td>AAL</td>\n",
       "      <td>2017-01-05 23:28:00</td>\n",
       "      <td>230</td>\n",
       "      <td>SCEL</td>\n",
       "      <td>KMIA</td>\n",
       "      <td>AAL</td>\n",
       "      <td>5</td>\n",
       "      <td>1</td>\n",
       "      <td>2017</td>\n",
       "      <td>Jueves</td>\n",
       "      <td>I</td>\n",
       "      <td>American Airlines</td>\n",
       "      <td>Santiago</td>\n",
       "      <td>Miami</td>\n",
       "    </tr>\n",
       "  </tbody>\n",
       "</table>\n",
       "</div>"
      ],
      "text/plain": [
       "              Fecha-I  Vlo-I Ori-I Des-I Emp-I             Fecha-O  Vlo-O  \\\n",
       "0 2017-01-01 23:30:00    230  SCEL  KMIA   AAL 2017-01-01 23:33:00    230   \n",
       "1 2017-01-02 23:30:00    230  SCEL  KMIA   AAL 2017-01-02 23:39:00    230   \n",
       "2 2017-01-03 23:30:00    230  SCEL  KMIA   AAL 2017-01-03 23:39:00    230   \n",
       "3 2017-01-04 23:30:00    230  SCEL  KMIA   AAL 2017-01-04 23:33:00    230   \n",
       "4 2017-01-05 23:30:00    230  SCEL  KMIA   AAL 2017-01-05 23:28:00    230   \n",
       "\n",
       "  Ori-O Des-O Emp-O  DIA  MES   AÑO     DIANOM TIPOVUELO              OPERA  \\\n",
       "0  SCEL  KMIA   AAL    1    1  2017    Domingo         I  American Airlines   \n",
       "1  SCEL  KMIA   AAL    2    1  2017      Lunes         I  American Airlines   \n",
       "2  SCEL  KMIA   AAL    3    1  2017     Martes         I  American Airlines   \n",
       "3  SCEL  KMIA   AAL    4    1  2017  Miercoles         I  American Airlines   \n",
       "4  SCEL  KMIA   AAL    5    1  2017     Jueves         I  American Airlines   \n",
       "\n",
       "   SIGLAORI SIGLADES  \n",
       "0  Santiago    Miami  \n",
       "1  Santiago    Miami  \n",
       "2  Santiago    Miami  \n",
       "3  Santiago    Miami  \n",
       "4  Santiago    Miami  "
      ]
     },
     "execution_count": 20,
     "metadata": {},
     "output_type": "execute_result"
    }
   ],
   "source": [
    "custom_df.replace({'Vlo-I': flightNumber, 'Vlo-O': flightNumber}, inplace=True)\n",
    "custom_df.head()"
   ]
  },
  {
   "attachments": {},
   "cell_type": "markdown",
   "metadata": {},
   "source": [
    "To be sure, that it worked, let's print the corresponding value on the dict of the first value on Vlo-I."
   ]
  },
  {
   "cell_type": "code",
   "execution_count": 21,
   "metadata": {},
   "outputs": [
    {
     "name": "stdout",
     "output_type": "stream",
     "text": [
      "First Value from Vlo-I: 226\n",
      "Corresponding value from dict: 230\n"
     ]
    }
   ],
   "source": [
    "fv = base_df['Vlo-I'][0]\n",
    "print('First Value from Vlo-I: {}\\nCorresponding value from dict: {}'.format(fv, flightNumber[fv]))"
   ]
  },
  {
   "attachments": {},
   "cell_type": "markdown",
   "metadata": {},
   "source": [
    "Everything is correct. Let's solve the challenges now."
   ]
  },
  {
   "cell_type": "code",
   "execution_count": 22,
   "metadata": {},
   "outputs": [],
   "source": []
  },
  {
   "attachments": {},
   "cell_type": "markdown",
   "metadata": {},
   "source": [
    "## Challenge 1"
   ]
  },
  {
   "attachments": {},
   "cell_type": "markdown",
   "metadata": {},
   "source": [
    "## Challenge 2"
   ]
  },
  {
   "attachments": {},
   "cell_type": "markdown",
   "metadata": {},
   "source": [
    "## Challenge 3"
   ]
  },
  {
   "attachments": {},
   "cell_type": "markdown",
   "metadata": {},
   "source": [
    "## Challenge 4"
   ]
  },
  {
   "attachments": {},
   "cell_type": "markdown",
   "metadata": {},
   "source": [
    "## Challenge 5"
   ]
  }
 ],
 "metadata": {
  "kernelspec": {
   "display_name": "latamds",
   "language": "python",
   "name": "python3"
  },
  "language_info": {
   "codemirror_mode": {
    "name": "ipython",
    "version": 3
   },
   "file_extension": ".py",
   "mimetype": "text/x-python",
   "name": "python",
   "nbconvert_exporter": "python",
   "pygments_lexer": "ipython3",
   "version": "3.11.2"
  },
  "orig_nbformat": 4
 },
 "nbformat": 4,
 "nbformat_minor": 2
}
